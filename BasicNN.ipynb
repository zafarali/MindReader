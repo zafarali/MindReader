{
 "cells": [
  {
   "cell_type": "code",
   "execution_count": 8,
   "metadata": {
    "collapsed": false
   },
   "outputs": [],
   "source": [
    "import numpy as np\n",
    "import theano\n",
    "import lasagne\n",
    "import random\n",
    "from lasagne import layers\n",
    "from lasagne.updates import nesterov_momentum\n",
    "from nolearn.lasagne import NeuralNet\n",
    "from sklearn.metrics import classification_report, confusion_matrix\n",
    "import IOutils"
   ]
  },
  {
   "cell_type": "code",
   "execution_count": 25,
   "metadata": {
    "collapsed": true
   },
   "outputs": [],
   "source": [
    "ds = IOutils.data_streamer2()\n",
    "vt = IOutils.VectorTransformer()"
   ]
  },
  {
   "cell_type": "code",
   "execution_count": 26,
   "metadata": {
    "collapsed": true
   },
   "outputs": [],
   "source": [
    "X_val, Y_val = ds.next()"
   ]
  },
  {
   "cell_type": "code",
   "execution_count": 27,
   "metadata": {
    "collapsed": false
   },
   "outputs": [],
   "source": [
    "X_val = X_val/X_val.max()"
   ]
  },
  {
   "cell_type": "code",
   "execution_count": 28,
   "metadata": {
    "collapsed": true
   },
   "outputs": [],
   "source": [
    "Y_val = vt.transform(Y_val)"
   ]
  },
  {
   "cell_type": "code",
   "execution_count": 32,
   "metadata": {
    "collapsed": false
   },
   "outputs": [
    {
     "data": {
      "text/plain": [
       "(0.80714835643034077, 0.19285164356965923)"
      ]
     },
     "execution_count": 32,
     "metadata": {},
     "output_type": "execute_result"
    }
   ],
   "source": [
    "np.sum(Y_val == 0) / float(len(Y_val)),np.sum(Y_val != 0) / float(len(Y_val))"
   ]
  },
  {
   "cell_type": "code",
   "execution_count": 6,
   "metadata": {
    "collapsed": false
   },
   "outputs": [],
   "source": [
    "nn = NeuralNet(layers=[\n",
    "        ('input', layers.InputLayer),\n",
    "        ('hidden', layers.DenseLayer),\n",
    "        ('hidden2', layers.DenseLayer),\n",
    "        ('output', layers.DenseLayer)\n",
    "    ],\n",
    "    input_shape=(None, 42),\n",
    "    hidden_num_units= 100,\n",
    "    hidden2_num_units=100,\n",
    "    output_num_units = len(vt.unique_rows),\n",
    "    output_nonlinearity=lasagne.nonlinearities.softmax,\n",
    "    update_learning_rate = 0.1,\n",
    "    update = nesterov_momentum,\n",
    "    max_epochs=100,\n",
    "    verbose=10000)"
   ]
  },
  {
   "cell_type": "code",
   "execution_count": 9,
   "metadata": {
    "collapsed": false,
    "scrolled": false
   },
   "outputs": [
    {
     "name": "stdout",
     "output_type": "stream",
     "text": [
      "# Neural Network with 15612 learnable parameters\n",
      "\n",
      "## Layer information\n",
      "\n",
      "  #  name       size\n",
      "---  -------  ------\n",
      "  0  input        42\n",
      "  1  hidden      100\n",
      "  2  hidden2     100\n",
      "  3  output       12\n",
      "\n",
      "  epoch    train loss    valid loss    train/val    valid acc  dur\n",
      "-------  ------------  ------------  -----------  -----------  -----\n",
      "      1       \u001b[36m0.41795\u001b[0m       \u001b[32m0.43473\u001b[0m      0.96140      0.90655  1.67s\n",
      "      2       \u001b[36m0.37831\u001b[0m       \u001b[32m0.37634\u001b[0m      1.00526      0.90694  1.59s\n",
      "      3       \u001b[36m0.35069\u001b[0m       \u001b[32m0.36068\u001b[0m      0.97233      0.90737  1.48s\n",
      "      4       \u001b[36m0.32793\u001b[0m       \u001b[32m0.32793\u001b[0m      1.00000      0.90831  1.44s\n",
      "      5       \u001b[36m0.31918\u001b[0m       \u001b[32m0.32352\u001b[0m      0.98657      0.90815  1.46s\n",
      "      6       \u001b[36m0.30438\u001b[0m       \u001b[32m0.30904\u001b[0m      0.98493      0.90911  1.76s\n",
      "      7       \u001b[36m0.29946\u001b[0m       \u001b[32m0.30337\u001b[0m      0.98713      0.91047  1.97s\n",
      "      8       \u001b[36m0.28959\u001b[0m       \u001b[32m0.29010\u001b[0m      0.99822      0.91159  1.93s\n",
      "      9       \u001b[36m0.27663\u001b[0m       \u001b[32m0.28054\u001b[0m      0.98607      0.91214  1.89s\n",
      "     10       \u001b[36m0.26993\u001b[0m       \u001b[32m0.26968\u001b[0m      1.00092      0.91352  1.93s\n",
      "     11       \u001b[36m0.25968\u001b[0m       \u001b[32m0.26336\u001b[0m      0.98603      0.91473  2.25s\n",
      "     12       \u001b[36m0.25174\u001b[0m       \u001b[32m0.25289\u001b[0m      0.99545      0.91657  1.84s\n",
      "     13       \u001b[36m0.24434\u001b[0m       \u001b[32m0.24318\u001b[0m      1.00473      0.91819  1.94s\n",
      "     14       \u001b[36m0.23730\u001b[0m       \u001b[32m0.23582\u001b[0m      1.00625      0.91881  1.86s\n",
      "     15       \u001b[36m0.23076\u001b[0m       \u001b[32m0.23300\u001b[0m      0.99041      0.91895  2.13s\n",
      "     16       \u001b[36m0.22422\u001b[0m       \u001b[32m0.22456\u001b[0m      0.99845      0.91965  1.84s\n",
      "     17       \u001b[36m0.21851\u001b[0m       \u001b[32m0.21823\u001b[0m      1.00127      0.92274  2.39s\n",
      "     18       \u001b[36m0.21293\u001b[0m       \u001b[32m0.21738\u001b[0m      0.97954      0.92250  2.20s\n",
      "     19       \u001b[36m0.20861\u001b[0m       \u001b[32m0.21331\u001b[0m      0.97798      0.92257  2.50s\n",
      "     20       \u001b[36m0.20504\u001b[0m       \u001b[32m0.21157\u001b[0m      0.96913      0.92335  2.13s\n",
      "     21       \u001b[36m0.20045\u001b[0m       0.21209      0.94511      0.92328  1.96s\n",
      "     22       \u001b[36m0.19714\u001b[0m       \u001b[32m0.20240\u001b[0m      0.97399      0.92424  2.25s\n",
      "     23       \u001b[36m0.19323\u001b[0m       \u001b[32m0.20019\u001b[0m      0.96521      0.92594  1.81s\n",
      "     24       \u001b[36m0.19090\u001b[0m       \u001b[32m0.19945\u001b[0m      0.95712      0.92700  1.80s\n",
      "     25       \u001b[36m0.18801\u001b[0m       0.20058      0.93732      0.92695  2.28s\n",
      "     26       \u001b[36m0.18511\u001b[0m       0.19948      0.92796      0.92879  1.82s\n",
      "     27       \u001b[36m0.18338\u001b[0m       \u001b[32m0.19593\u001b[0m      0.93591      0.92881  2.28s\n",
      "     28       \u001b[36m0.18031\u001b[0m       \u001b[32m0.19063\u001b[0m      0.94583      0.93149  1.79s\n",
      "     29       \u001b[36m0.17810\u001b[0m       0.19419      0.91713      0.92973  1.83s\n",
      "     30       \u001b[36m0.17571\u001b[0m       0.19103      0.91983      0.93090  1.76s\n",
      "     31       \u001b[36m0.17339\u001b[0m       \u001b[32m0.18712\u001b[0m      0.92660      0.93195  1.81s\n",
      "     32       \u001b[36m0.17105\u001b[0m       \u001b[32m0.17833\u001b[0m      0.95919      0.93500  1.83s\n",
      "     33       \u001b[36m0.16935\u001b[0m       \u001b[32m0.17778\u001b[0m      0.95259      0.93647  1.81s\n",
      "     34       \u001b[36m0.16774\u001b[0m       0.18103      0.92658      0.93383  1.88s\n",
      "     35       \u001b[36m0.16549\u001b[0m       0.18072      0.91574      0.93530  1.86s\n",
      "     36       \u001b[36m0.16439\u001b[0m       0.18521      0.88763      0.93405  1.81s\n",
      "     37       \u001b[36m0.16241\u001b[0m       0.17903      0.90719      0.93594  1.76s\n",
      "     38       \u001b[36m0.16060\u001b[0m       \u001b[32m0.17522\u001b[0m      0.91656      0.93734  1.77s\n",
      "     39       \u001b[36m0.15899\u001b[0m       0.17741      0.89617      0.93631  1.84s\n",
      "     40       \u001b[36m0.15740\u001b[0m       0.17619      0.89337      0.93615  1.75s\n",
      "     41       \u001b[36m0.15614\u001b[0m       \u001b[32m0.17450\u001b[0m      0.89480      0.93736  3.17s\n",
      "     42       \u001b[36m0.15436\u001b[0m       \u001b[32m0.17045\u001b[0m      0.90557      0.93853  2.38s\n",
      "     43       \u001b[36m0.15336\u001b[0m       \u001b[32m0.16551\u001b[0m      0.92660      0.93951  2.60s\n",
      "     44       \u001b[36m0.15157\u001b[0m       0.16632      0.91130      0.93941  1.86s\n",
      "     45       \u001b[36m0.15088\u001b[0m       0.16695      0.90378      0.93880  1.81s\n",
      "     46       \u001b[36m0.14941\u001b[0m       \u001b[32m0.16165\u001b[0m      0.92429      0.94132  1.83s\n",
      "     47       \u001b[36m0.14826\u001b[0m       0.16591      0.89363      0.93953  1.78s\n",
      "     48       \u001b[36m0.14761\u001b[0m       \u001b[32m0.16075\u001b[0m      0.91830      0.94122  1.81s\n",
      "     49       \u001b[36m0.14668\u001b[0m       \u001b[32m0.15855\u001b[0m      0.92511      0.94173  1.73s\n",
      "     50       \u001b[36m0.14567\u001b[0m       0.16015      0.90956      0.94141  1.82s\n",
      "     51       \u001b[36m0.14485\u001b[0m       0.15879      0.91219      0.94249  1.81s\n",
      "     52       \u001b[36m0.14364\u001b[0m       0.16191      0.88716      0.94070  1.77s\n",
      "     53       \u001b[36m0.14339\u001b[0m       0.16059      0.89290      0.94081  1.85s\n",
      "     54       \u001b[36m0.14167\u001b[0m       \u001b[32m0.15617\u001b[0m      0.90718      0.94333  1.89s\n",
      "     55       \u001b[36m0.14078\u001b[0m       0.15775      0.89240      0.94248  1.82s\n",
      "     56       \u001b[36m0.14038\u001b[0m       0.16131      0.87025      0.94100  1.84s\n",
      "     57       \u001b[36m0.13950\u001b[0m       0.15914      0.87656      0.94221  1.79s\n",
      "     58       \u001b[36m0.13943\u001b[0m       \u001b[32m0.15404\u001b[0m      0.90514      0.94310  1.87s\n",
      "     59       \u001b[36m0.13767\u001b[0m       0.15617      0.88153      0.94262  1.84s\n",
      "     60       \u001b[36m0.13719\u001b[0m       \u001b[32m0.15293\u001b[0m      0.89705      0.94377  2.49s\n",
      "     61       \u001b[36m0.13623\u001b[0m       0.15487      0.87959      0.94265  2.44s\n",
      "     62       \u001b[36m0.13528\u001b[0m       0.15498      0.87293      0.94304  2.38s\n",
      "     63       \u001b[36m0.13506\u001b[0m       0.15483      0.87226      0.94303  1.87s\n",
      "     64       \u001b[36m0.13457\u001b[0m       0.15346      0.87691      0.94342  1.87s\n",
      "     65       \u001b[36m0.13338\u001b[0m       \u001b[32m0.15259\u001b[0m      0.87412      0.94377  1.90s\n",
      "     66       \u001b[36m0.13285\u001b[0m       0.15815      0.83998      0.94215  1.86s\n",
      "     67       \u001b[36m0.13240\u001b[0m       0.15779      0.83908      0.94214  1.76s\n",
      "     68       0.13254       0.15673      0.84565      0.94301  1.60s\n",
      "     69       \u001b[36m0.13114\u001b[0m       0.15542      0.84375      0.94306  1.76s\n",
      "     70       \u001b[36m0.13028\u001b[0m       0.15367      0.84780      0.94384  1.88s\n",
      "     71       \u001b[36m0.12944\u001b[0m       0.16122      0.80287      0.94336  1.91s\n",
      "     72       \u001b[36m0.12938\u001b[0m       0.15466      0.83654      0.94377  1.95s\n",
      "     73       \u001b[36m0.12831\u001b[0m       \u001b[32m0.15011\u001b[0m      0.85478      0.94510  1.91s\n",
      "     74       \u001b[36m0.12728\u001b[0m       0.15153      0.83999      0.94482  2.06s\n",
      "     75       0.12735       0.15383      0.82784      0.94400  2.84s\n",
      "     76       \u001b[36m0.12646\u001b[0m       0.15321      0.82538      0.94377  2.29s\n",
      "     77       \u001b[36m0.12622\u001b[0m       0.15202      0.83029      0.94473  2.18s\n",
      "     78       \u001b[36m0.12554\u001b[0m       \u001b[32m0.14887\u001b[0m      0.84325      0.94553  1.79s\n",
      "     79       \u001b[36m0.12497\u001b[0m       \u001b[32m0.14874\u001b[0m      0.84020      0.94486  1.85s\n",
      "     80       \u001b[36m0.12435\u001b[0m       0.15470      0.80380      0.94413  1.90s\n",
      "     81       0.12452       0.15141      0.82243      0.94507  1.94s\n",
      "     82       \u001b[36m0.12333\u001b[0m       0.15129      0.81523      0.94461  1.93s\n",
      "     83       \u001b[36m0.12309\u001b[0m       0.15141      0.81291      0.94429  1.87s\n",
      "     84       \u001b[36m0.12244\u001b[0m       0.14999      0.81632      0.94468  1.80s\n",
      "     85       \u001b[36m0.12163\u001b[0m       0.14900      0.81633      0.94532  1.93s\n",
      "     86       \u001b[36m0.12158\u001b[0m       \u001b[32m0.14801\u001b[0m      0.82139      0.94614  1.90s\n",
      "     87       \u001b[36m0.12084\u001b[0m       0.14970      0.80720      0.94516  1.82s\n",
      "     88       \u001b[36m0.12010\u001b[0m       \u001b[32m0.14586\u001b[0m      0.82337      0.94685  1.86s\n",
      "     89       \u001b[36m0.11891\u001b[0m       \u001b[32m0.14496\u001b[0m      0.82028      0.94715  1.90s\n",
      "     90       0.11933       0.14816      0.80546      0.94677  1.87s\n",
      "     91       \u001b[36m0.11874\u001b[0m       0.14812      0.80162      0.94651  1.90s\n",
      "     92       \u001b[36m0.11769\u001b[0m       0.14584      0.80699      0.94734  1.82s\n",
      "     93       \u001b[36m0.11759\u001b[0m       0.14750      0.79720      0.94608  1.86s\n",
      "     94       \u001b[36m0.11691\u001b[0m       0.14761      0.79197      0.94669  1.84s\n",
      "     95       0.11744       \u001b[32m0.14216\u001b[0m      0.82611      0.94834  1.81s\n",
      "     96       \u001b[36m0.11636\u001b[0m       0.15256      0.76268      0.94392  1.90s\n",
      "     97       \u001b[36m0.11539\u001b[0m       0.14399      0.80136      0.94672  2.19s\n",
      "     98       \u001b[36m0.11510\u001b[0m       0.14846      0.77528      0.94610  2.45s\n",
      "     99       0.11512       0.14542      0.79159      0.94690  2.02s\n",
      "    100       \u001b[36m0.11346\u001b[0m       0.14752      0.76909      0.94649  1.93s\n"
     ]
    },
    {
     "data": {
      "text/plain": [
       "NeuralNet(X_tensor_type=None,\n",
       "     batch_iterator_test=<nolearn.lasagne.base.BatchIterator object at 0x1072b1b90>,\n",
       "     batch_iterator_train=<nolearn.lasagne.base.BatchIterator object at 0x1072b1b10>,\n",
       "     custom_score=None, hidden2_num_units=100, hidden_num_units=100,\n",
       "     input_shape=(None, 42),\n",
       "     layers=[('input', <class 'lasagne.layers.input.InputLayer'>), ('hidden', <class 'lasagne.layers.dense.DenseLayer'>), ('hidden2', <class 'lasagne.layers.dense.DenseLayer'>), ('output', <class 'lasagne.layers.dense.DenseLayer'>)],\n",
       "     loss=None, max_epochs=100, more_params={},\n",
       "     objective=<function objective at 0x1072bc6e0>,\n",
       "     objective_loss_function=<function categorical_crossentropy at 0x106f232a8>,\n",
       "     on_batch_finished=[],\n",
       "     on_epoch_finished=[<nolearn.lasagne.handlers.PrintLog instance at 0x112b583f8>],\n",
       "     on_training_finished=[],\n",
       "     on_training_started=[<nolearn.lasagne.handlers.PrintLayerInfo instance at 0x112b58440>],\n",
       "     output_nonlinearity=<function softmax at 0x106dc81b8>,\n",
       "     output_num_units=12, regression=False,\n",
       "     train_split=<nolearn.lasagne.base.TrainSplit object at 0x1072b1bd0>,\n",
       "     update=<function nesterov_momentum at 0x106f2a0c8>,\n",
       "     update_learning_rate=0.1, use_label_encoder=False, verbose=10000,\n",
       "     y_tensor_type=TensorType(int32, vector))"
      ]
     },
     "execution_count": 9,
     "metadata": {},
     "output_type": "execute_result"
    }
   ],
   "source": [
    "X_next, Y_next = ds.next()\n",
    "X_next = X_next/X_next.max()\n",
    "X_next[-256:, 32:]=0\n",
    "zipped = zip(X_next,Y_next)\n",
    "random.shuffle(zipped)\n",
    "X,Y = zip(*zipped)\n",
    "X_next = np.array(X)\n",
    "Y_next = np.array(Y)\n",
    "X_next = X_next.astype(np.float)\n",
    "Y_next = vt.transform(Y_next)\n",
    "nn.fit(X_next, Y_next)"
   ]
  },
  {
   "cell_type": "code",
   "execution_count": 10,
   "metadata": {
    "collapsed": false
   },
   "outputs": [],
   "source": [
    "predicted = nn.predict(X_val.astype(np.float))"
   ]
  },
  {
   "cell_type": "code",
   "execution_count": 11,
   "metadata": {
    "collapsed": false
   },
   "outputs": [
    {
     "data": {
      "text/plain": [
       "array([[95766,     0,    36,   640,     0,     0,     0,     2,     7,\n",
       "            0,     0],\n",
       "       [ 2779,     0,     1,    30,     0,     0,     0,     0,     0,\n",
       "            0,     0],\n",
       "       [ 1443,     0,     0,     3,     0,     0,     0,     0,     0,\n",
       "            0,     0],\n",
       "       [ 5035,     0,     1,    64,     0,     0,     0,     0,     0,\n",
       "            0,     0],\n",
       "       [  341,     0,     1,     1,     0,     0,     0,     0,     0,\n",
       "            0,     0],\n",
       "       [  834,     0,     0,    10,     0,     0,     0,     0,     0,\n",
       "            0,     0],\n",
       "       [ 1351,     0,     0,     1,     0,     0,     0,     0,     0,\n",
       "            0,     0],\n",
       "       [  497,     0,     0,     4,     0,     0,     0,     0,     0,\n",
       "            0,     0],\n",
       "       [ 3113,     0,     0,    39,     0,     0,     0,     1,     0,\n",
       "            0,     0],\n",
       "       [ 3712,     0,     1,    35,     0,     0,     0,     0,     0,\n",
       "            0,     0],\n",
       "       [ 3732,     0,     0,    16,     0,     0,     0,     0,     0,\n",
       "            0,     0]])"
      ]
     },
     "execution_count": 11,
     "metadata": {},
     "output_type": "execute_result"
    }
   ],
   "source": [
    "confusion_matrix(Y_val, predicted)"
   ]
  },
  {
   "cell_type": "code",
   "execution_count": 12,
   "metadata": {
    "collapsed": false
   },
   "outputs": [
    {
     "name": "stdout",
     "output_type": "stream",
     "text": [
      "             precision    recall  f1-score   support\n",
      "\n",
      "          0       0.81      0.99      0.89     96451\n",
      "          1       0.00      0.00      0.00      2810\n",
      "          2       0.00      0.00      0.00      1446\n",
      "          3       0.08      0.01      0.02      5100\n",
      "          4       0.00      0.00      0.00       343\n",
      "          5       0.00      0.00      0.00       844\n",
      "          6       0.00      0.00      0.00      1352\n",
      "          7       0.00      0.00      0.00       501\n",
      "          8       0.00      0.00      0.00      3153\n",
      "         10       0.00      0.00      0.00      3748\n",
      "         11       0.00      0.00      0.00      3748\n",
      "\n",
      "avg / total       0.65      0.80      0.72    119496\n",
      "\n"
     ]
    },
    {
     "name": "stderr",
     "output_type": "stream",
     "text": [
      "/Users/zaf/anaconda/lib/python2.7/site-packages/sklearn/metrics/classification.py:958: UndefinedMetricWarning: Precision and F-score are ill-defined and being set to 0.0 in labels with no predicted samples.\n",
      "  'precision', 'predicted', average, warn_for)\n"
     ]
    }
   ],
   "source": [
    "print classification_report(Y_val, predicted)"
   ]
  },
  {
   "cell_type": "code",
   "execution_count": 13,
   "metadata": {
    "collapsed": false
   },
   "outputs": [
    {
     "data": {
      "text/plain": [
       "12"
      ]
     },
     "execution_count": 13,
     "metadata": {},
     "output_type": "execute_result"
    }
   ],
   "source": [
    "len(vt.unique_rows)"
   ]
  },
  {
   "cell_type": "code",
   "execution_count": null,
   "metadata": {
    "collapsed": true
   },
   "outputs": [],
   "source": []
  }
 ],
 "metadata": {
  "kernelspec": {
   "display_name": "Python 2",
   "language": "python",
   "name": "python2"
  },
  "language_info": {
   "codemirror_mode": {
    "name": "ipython",
    "version": 2
   },
   "file_extension": ".py",
   "mimetype": "text/x-python",
   "name": "python",
   "nbconvert_exporter": "python",
   "pygments_lexer": "ipython2",
   "version": "2.7.10"
  }
 },
 "nbformat": 4,
 "nbformat_minor": 0
}
