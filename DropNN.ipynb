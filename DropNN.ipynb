{
 "cells": [
  {
   "cell_type": "code",
   "execution_count": 1,
   "metadata": {
    "collapsed": false
   },
   "outputs": [],
   "source": [
    "import numpy as np\n",
    "import theano\n",
    "import lasagne\n",
    "import random\n",
    "from lasagne import layers\n",
    "from lasagne.updates import nesterov_momentum\n",
    "from nolearn.lasagne import NeuralNet\n",
    "from sklearn.metrics import classification_report, confusion_matrix\n",
    "import IOutils"
   ]
  },
  {
   "cell_type": "code",
   "execution_count": 2,
   "metadata": {
    "collapsed": true
   },
   "outputs": [],
   "source": [
    "ds = IOutils.data_streamer2()\n",
    "vt = IOutils.VectorTransformer()"
   ]
  },
  {
   "cell_type": "code",
   "execution_count": 3,
   "metadata": {
    "collapsed": true
   },
   "outputs": [],
   "source": [
    "X_val, Y_val = ds.next()"
   ]
  },
  {
   "cell_type": "code",
   "execution_count": 9,
   "metadata": {
    "collapsed": true
   },
   "outputs": [],
   "source": [
    "Y_val = vt.transform(Y_val)"
   ]
  },
  {
   "cell_type": "code",
   "execution_count": 12,
   "metadata": {
    "collapsed": false
   },
   "outputs": [],
   "source": [
    "non_zero_data = np.where(Y_val)\n",
    "X_val, Y_val = X_val[non_zero_data,:],Y_val[non_zero_data]"
   ]
  },
  {
   "cell_type": "code",
   "execution_count": 13,
   "metadata": {
    "collapsed": false
   },
   "outputs": [],
   "source": [
    "X_val = X_val/X_val.max()"
   ]
  },
  {
   "cell_type": "code",
   "execution_count": 14,
   "metadata": {
    "collapsed": false
   },
   "outputs": [],
   "source": [
    "nn = NeuralNet(layers=[\n",
    "        ('input', layers.InputLayer),\n",
    "        ('hidden', layers.DenseLayer),\n",
    "        ('hidden2', layers.DenseLayer),\n",
    "        ('output', layers.DenseLayer)\n",
    "    ],\n",
    "    input_shape=(None, 42),\n",
    "    hidden_num_units= 100,\n",
    "    hidden2_num_units=100,\n",
    "    output_num_units = len(vt.unique_rows),\n",
    "    output_nonlinearity=lasagne.nonlinearities.softmax,\n",
    "    update_learning_rate = 0.1,\n",
    "    update = nesterov_momentum,\n",
    "    max_epochs=100,\n",
    "    verbose=10000)"
   ]
  },
  {
   "cell_type": "code",
   "execution_count": 21,
   "metadata": {
    "collapsed": false,
    "scrolled": false
   },
   "outputs": [
    {
     "name": "stdout",
     "output_type": "stream",
     "text": [
      "# Neural Network with 15612 learnable parameters\n",
      "\n",
      "## Layer information\n",
      "\n",
      "  #  name       size\n",
      "---  -------  ------\n",
      "  0  input        42\n",
      "  1  hidden      100\n",
      "  2  hidden2     100\n",
      "  3  output       12\n",
      "\n",
      "  epoch    train loss    valid loss    train/val    valid acc  dur\n",
      "-------  ------------  ------------  -----------  -----------  -----\n",
      "      1       \u001b[36m1.92955\u001b[0m       \u001b[32m1.67483\u001b[0m      1.15209      0.41857  0.19s\n",
      "      2       \u001b[36m1.46964\u001b[0m       \u001b[32m1.33628\u001b[0m      1.09980      0.51768  0.16s\n",
      "      3       \u001b[36m1.29620\u001b[0m       \u001b[32m1.23336\u001b[0m      1.05095      0.55674  0.16s\n",
      "      4       \u001b[36m1.21334\u001b[0m       \u001b[32m1.16341\u001b[0m      1.04292      0.58549  0.16s\n",
      "      5       \u001b[36m1.14766\u001b[0m       \u001b[32m1.11132\u001b[0m      1.03270      0.59962  0.16s\n",
      "      6       \u001b[36m1.09067\u001b[0m       \u001b[32m1.03598\u001b[0m      1.05280      0.61853  0.15s\n",
      "      7       \u001b[36m1.04318\u001b[0m       \u001b[32m0.98832\u001b[0m      1.05551      0.63569  0.15s\n",
      "      8       \u001b[36m0.99637\u001b[0m       \u001b[32m0.92681\u001b[0m      1.07505      0.65235  0.15s\n",
      "      9       \u001b[36m0.95166\u001b[0m       \u001b[32m0.88332\u001b[0m      1.07736      0.65564  0.15s\n",
      "     10       \u001b[36m0.91522\u001b[0m       \u001b[32m0.84502\u001b[0m      1.08308      0.66776  0.14s\n",
      "     11       \u001b[36m0.88545\u001b[0m       \u001b[32m0.82255\u001b[0m      1.07647      0.67583  0.15s\n",
      "     12       \u001b[36m0.83656\u001b[0m       \u001b[32m0.79362\u001b[0m      1.05410      0.68898  0.21s\n",
      "     13       \u001b[36m0.80317\u001b[0m       \u001b[32m0.76877\u001b[0m      1.04475      0.69781  0.29s\n",
      "     14       \u001b[36m0.77293\u001b[0m       \u001b[32m0.73978\u001b[0m      1.04481      0.71116  0.16s\n",
      "     15       \u001b[36m0.74711\u001b[0m       \u001b[32m0.70384\u001b[0m      1.06148      0.72705  0.14s\n",
      "     16       \u001b[36m0.71895\u001b[0m       \u001b[32m0.68404\u001b[0m      1.05102      0.73134  0.14s\n",
      "     17       \u001b[36m0.69745\u001b[0m       \u001b[32m0.66711\u001b[0m      1.04548      0.74594  0.18s\n",
      "     18       \u001b[36m0.67528\u001b[0m       0.66887      1.00958      0.74768  0.18s\n",
      "     19       \u001b[36m0.64757\u001b[0m       \u001b[32m0.64044\u001b[0m      1.01114      0.75376  0.16s\n",
      "     20       \u001b[36m0.63078\u001b[0m       0.64216      0.98228      0.75502  0.15s\n",
      "     21       \u001b[36m0.61766\u001b[0m       \u001b[32m0.62806\u001b[0m      0.98344      0.75802  0.16s\n",
      "     22       \u001b[36m0.59714\u001b[0m       \u001b[32m0.62072\u001b[0m      0.96201      0.76433  0.24s\n",
      "     23       \u001b[36m0.58286\u001b[0m       \u001b[32m0.59737\u001b[0m      0.97571      0.77091  0.34s\n",
      "     24       \u001b[36m0.57266\u001b[0m       0.60114      0.95262      0.76537  0.19s\n",
      "     25       \u001b[36m0.55727\u001b[0m       \u001b[32m0.59241\u001b[0m      0.94069      0.76890  0.18s\n",
      "     26       \u001b[36m0.54760\u001b[0m       \u001b[32m0.58677\u001b[0m      0.93324      0.77071  0.30s\n",
      "     27       \u001b[36m0.53495\u001b[0m       \u001b[32m0.57002\u001b[0m      0.93848      0.77371  0.28s\n",
      "     28       \u001b[36m0.52179\u001b[0m       \u001b[32m0.55304\u001b[0m      0.94350      0.78101  0.20s\n",
      "     29       \u001b[36m0.51019\u001b[0m       0.56793      0.89833      0.77447  0.16s\n",
      "     30       \u001b[36m0.50364\u001b[0m       0.56319      0.89427      0.77245  0.14s\n",
      "     31       \u001b[36m0.49148\u001b[0m       0.55584      0.88421      0.77877  0.19s\n",
      "     32       \u001b[36m0.48221\u001b[0m       \u001b[32m0.54801\u001b[0m      0.87992      0.78558  0.21s\n",
      "     33       \u001b[36m0.47227\u001b[0m       0.54941      0.85959      0.78256  0.16s\n",
      "     34       \u001b[36m0.46441\u001b[0m       \u001b[32m0.54377\u001b[0m      0.85405      0.78710  0.16s\n",
      "     35       \u001b[36m0.45277\u001b[0m       \u001b[32m0.53301\u001b[0m      0.84945      0.79113  0.17s\n",
      "     36       \u001b[36m0.44443\u001b[0m       0.53656      0.82830      0.78886  0.33s\n",
      "     37       \u001b[36m0.43476\u001b[0m       \u001b[32m0.52328\u001b[0m      0.83084      0.79742  0.26s\n",
      "     38       \u001b[36m0.42779\u001b[0m       \u001b[32m0.51192\u001b[0m      0.83565      0.80221  0.15s\n",
      "     39       \u001b[36m0.41801\u001b[0m       \u001b[32m0.51055\u001b[0m      0.81875      0.80247  0.16s\n",
      "     40       \u001b[36m0.40674\u001b[0m       0.51074      0.79637      0.80248  0.15s\n",
      "     41       \u001b[36m0.40074\u001b[0m       \u001b[32m0.49671\u001b[0m      0.80678      0.81105  0.27s\n",
      "     42       \u001b[36m0.39538\u001b[0m       \u001b[32m0.49285\u001b[0m      0.80224      0.81031  0.30s\n",
      "     43       \u001b[36m0.39101\u001b[0m       \u001b[32m0.46444\u001b[0m      0.84188      0.81535  0.28s\n",
      "     44       \u001b[36m0.38253\u001b[0m       0.47705      0.80187      0.81359  0.25s\n",
      "     45       \u001b[36m0.37732\u001b[0m       0.46938      0.80386      0.81358  0.15s\n",
      "     46       \u001b[36m0.37034\u001b[0m       0.47872      0.77361      0.81108  0.15s\n",
      "     47       \u001b[36m0.36275\u001b[0m       0.47390      0.76547      0.81637  0.15s\n",
      "     48       \u001b[36m0.35572\u001b[0m       0.47163      0.75425      0.81663  0.23s\n",
      "     49       \u001b[36m0.34845\u001b[0m       \u001b[32m0.45107\u001b[0m      0.77250      0.82547  0.19s\n",
      "     50       \u001b[36m0.34053\u001b[0m       0.45245      0.75264      0.82394  0.15s\n",
      "     51       \u001b[36m0.33603\u001b[0m       0.45601      0.73689      0.82469  0.29s\n",
      "     52       \u001b[36m0.33034\u001b[0m       0.46950      0.70361      0.82195  0.19s\n",
      "     53       \u001b[36m0.32746\u001b[0m       \u001b[32m0.43762\u001b[0m      0.74827      0.83277  0.14s\n",
      "     54       \u001b[36m0.32285\u001b[0m       \u001b[32m0.43565\u001b[0m      0.74108      0.83225  0.17s\n",
      "     55       \u001b[36m0.31878\u001b[0m       0.45009      0.70825      0.82598  0.19s\n",
      "     56       \u001b[36m0.31209\u001b[0m       0.45504      0.68586      0.82672  0.21s\n",
      "     57       \u001b[36m0.31087\u001b[0m       0.43762      0.71036      0.82923  0.16s\n",
      "     58       \u001b[36m0.30941\u001b[0m       0.44020      0.70289      0.83528  0.14s\n",
      "     59       \u001b[36m0.30735\u001b[0m       0.46717      0.65790      0.82898  0.16s\n",
      "     60       \u001b[36m0.30404\u001b[0m       0.46165      0.65860      0.82924  0.16s\n",
      "     61       \u001b[36m0.30196\u001b[0m       \u001b[32m0.43562\u001b[0m      0.69318      0.83553  0.17s\n",
      "     62       \u001b[36m0.29407\u001b[0m       0.44055      0.66749      0.83427  0.17s\n",
      "     63       \u001b[36m0.29393\u001b[0m       0.43971      0.66845      0.82998  0.16s\n",
      "     64       \u001b[36m0.29315\u001b[0m       0.44671      0.65624      0.83732  0.17s\n",
      "     65       \u001b[36m0.28491\u001b[0m       \u001b[32m0.41438\u001b[0m      0.68756      0.84789  0.17s\n",
      "     66       \u001b[36m0.28300\u001b[0m       0.42635      0.66376      0.84261  0.17s\n",
      "     67       \u001b[36m0.27947\u001b[0m       0.42762      0.65354      0.84436  0.38s\n",
      "     68       \u001b[36m0.27432\u001b[0m       0.42524      0.64509      0.84286  0.16s\n",
      "     69       \u001b[36m0.27268\u001b[0m       0.43913      0.62095      0.83956  0.14s\n",
      "     70       \u001b[36m0.26450\u001b[0m       0.43445      0.60881      0.84131  0.15s\n",
      "     71       0.26497       0.41954      0.63156      0.84586  0.18s\n",
      "     72       \u001b[36m0.26401\u001b[0m       0.43094      0.61264      0.84308  0.20s\n",
      "     73       \u001b[36m0.25922\u001b[0m       \u001b[32m0.40258\u001b[0m      0.64391      0.85318  0.16s\n",
      "     74       0.26028       0.43030      0.60487      0.84334  0.16s\n",
      "     75       \u001b[36m0.25597\u001b[0m       0.40998      0.62433      0.85316  0.16s\n",
      "     76       \u001b[36m0.24837\u001b[0m       0.42559      0.58360      0.84563  0.16s\n",
      "     77       \u001b[36m0.24530\u001b[0m       0.41032      0.59781      0.85141  0.16s\n",
      "     78       \u001b[36m0.24322\u001b[0m       0.41422      0.58717      0.84890  0.17s\n",
      "     79       \u001b[36m0.23912\u001b[0m       0.41542      0.57560      0.85170  0.17s\n",
      "     80       0.23980       0.40884      0.58653      0.85066  0.17s\n",
      "     81       \u001b[36m0.23241\u001b[0m       \u001b[32m0.39387\u001b[0m      0.59005      0.85872  0.16s\n",
      "     82       \u001b[36m0.22732\u001b[0m       \u001b[32m0.39311\u001b[0m      0.57826      0.85520  0.16s\n",
      "     83       \u001b[36m0.22526\u001b[0m       0.41562      0.54200      0.85090  0.16s\n",
      "     84       0.22584       0.42662      0.52936      0.85116  0.38s\n",
      "     85       \u001b[36m0.22113\u001b[0m       0.41771      0.52939      0.85340  0.29s\n",
      "     86       0.22693       0.40458      0.56091      0.85466  0.29s\n",
      "     87       \u001b[36m0.21326\u001b[0m       0.42617      0.50040      0.84760  0.16s\n",
      "     88       \u001b[36m0.21235\u001b[0m       0.41086      0.51685      0.85468  0.16s\n",
      "     89       0.21932       0.43565      0.50344      0.85139  0.14s\n",
      "     90       0.21317       0.42018      0.50733      0.85568  0.20s\n",
      "     91       \u001b[36m0.21120\u001b[0m       0.42215      0.50030      0.85798  0.18s\n",
      "     92       \u001b[36m0.20654\u001b[0m       0.42560      0.48530      0.85867  0.16s\n",
      "     93       0.21019       0.44456      0.47281      0.85168  0.17s\n",
      "     94       \u001b[36m0.20638\u001b[0m       0.39709      0.51972      0.85974  0.17s\n",
      "     95       \u001b[36m0.20215\u001b[0m       0.40012      0.50523      0.86329  0.21s\n",
      "     96       \u001b[36m0.20199\u001b[0m       0.41205      0.49021      0.85951  0.32s\n",
      "     97       0.20302       0.42354      0.47934      0.85271  0.15s\n",
      "     98       \u001b[36m0.19991\u001b[0m       0.41834      0.47786      0.86128  0.15s\n",
      "     99       0.20113       0.42019      0.47865      0.85598  0.14s\n",
      "    100       0.20431       0.42935      0.47585      0.85120  0.19s\n"
     ]
    },
    {
     "data": {
      "text/plain": [
       "NeuralNet(X_tensor_type=None,\n",
       "     batch_iterator_test=<nolearn.lasagne.base.BatchIterator object at 0x1073b4c10>,\n",
       "     batch_iterator_train=<nolearn.lasagne.base.BatchIterator object at 0x1073b4b90>,\n",
       "     custom_score=None, hidden2_num_units=100, hidden_num_units=100,\n",
       "     input_shape=(None, 42),\n",
       "     layers=[('input', <class 'lasagne.layers.input.InputLayer'>), ('hidden', <class 'lasagne.layers.dense.DenseLayer'>), ('hidden2', <class 'lasagne.layers.dense.DenseLayer'>), ('output', <class 'lasagne.layers.dense.DenseLayer'>)],\n",
       "     loss=None, max_epochs=100, more_params={},\n",
       "     objective=<function objective at 0x1073bf6e0>,\n",
       "     objective_loss_function=<function categorical_crossentropy at 0x1071612a8>,\n",
       "     on_batch_finished=[],\n",
       "     on_epoch_finished=[<nolearn.lasagne.handlers.PrintLog instance at 0x112444f38>],\n",
       "     on_training_finished=[],\n",
       "     on_training_started=[<nolearn.lasagne.handlers.PrintLayerInfo instance at 0x112444f80>],\n",
       "     output_nonlinearity=<function softmax at 0x106f021b8>,\n",
       "     output_num_units=12, regression=False,\n",
       "     train_split=<nolearn.lasagne.base.TrainSplit object at 0x1073b4c50>,\n",
       "     update=<function nesterov_momentum at 0x1071680c8>,\n",
       "     update_learning_rate=0.1, use_label_encoder=False, verbose=10000,\n",
       "     y_tensor_type=TensorType(int32, vector))"
      ]
     },
     "execution_count": 21,
     "metadata": {},
     "output_type": "execute_result"
    }
   ],
   "source": [
    "X_next, Y_next = ds.next()\n",
    "X_next = X_next/X_next.max()\n",
    "X_next[-256:, 32:]=0\n",
    "zipped = zip(X_next,Y_next)\n",
    "random.shuffle(zipped)\n",
    "X,Y = zip(*zipped)\n",
    "\n",
    "X_next = np.array(X)\n",
    "Y_next = np.array(Y)\n",
    "X_next = X_next.astype(np.float)\n",
    "Y_next = vt.transform(Y_next)\n",
    "\n",
    "non_zero_labels = np.where(Y_next > 0)\n",
    "X_next, Y_next = X_next[non_zero_labels, :], Y_next[non_zero_labels]\n",
    "X_next = X_next.reshape(-1, 42)\n",
    "nn.fit(X_next, Y_next)"
   ]
  },
  {
   "cell_type": "code",
   "execution_count": 25,
   "metadata": {
    "collapsed": false
   },
   "outputs": [],
   "source": [
    "predicted = nn.predict(X_val.reshape(-1,42).astype(np.float))"
   ]
  },
  {
   "cell_type": "code",
   "execution_count": 26,
   "metadata": {
    "collapsed": false
   },
   "outputs": [
    {
     "data": {
      "text/plain": [
       "array([[ 249,  108, 2267,    0,    2,   64,   70,   50,    0,    0],\n",
       "       [  90,   73, 1120,    0,    0,   48,    8,  104,    2,    1],\n",
       "       [ 116,   48, 4660,    0,    0,   89,    5,  149,    0,   33],\n",
       "       [  23,    6,  261,    0,    0,    0,   52,    1,    0,    0],\n",
       "       [  64,   19,  658,    0,    1,   26,   50,   26,    0,    0],\n",
       "       [ 217,  132,  764,   11,    0,   17,    0,  182,    0,   29],\n",
       "       [  17,   52,  384,    0,    0,   25,    3,   18,    1,    1],\n",
       "       [ 350,  122, 2464,    4,    0,   77,   75,   61,    0,    0],\n",
       "       [ 352,  547, 2447,   10,    0,  132,   43,   47,   72,   98],\n",
       "       [ 526,  289, 2518,    3,    0,  154,   13,   77,   37,  131]])"
      ]
     },
     "execution_count": 26,
     "metadata": {},
     "output_type": "execute_result"
    }
   ],
   "source": [
    "confusion_matrix(Y_val, predicted)"
   ]
  },
  {
   "cell_type": "code",
   "execution_count": 27,
   "metadata": {
    "collapsed": false
   },
   "outputs": [
    {
     "name": "stdout",
     "output_type": "stream",
     "text": [
      "             precision    recall  f1-score   support\n",
      "\n",
      "          1       0.12      0.09      0.10      2810\n",
      "          2       0.05      0.05      0.05      1446\n",
      "          3       0.27      0.91      0.41      5100\n",
      "          4       0.00      0.00      0.00       343\n",
      "          5       0.33      0.00      0.00       844\n",
      "          6       0.03      0.01      0.02      1352\n",
      "          7       0.01      0.01      0.01       501\n",
      "          8       0.09      0.02      0.03      3153\n",
      "         10       0.64      0.02      0.04      3748\n",
      "         11       0.45      0.03      0.06      3748\n",
      "\n",
      "avg / total       0.28      0.23      0.13     23045\n",
      "\n"
     ]
    }
   ],
   "source": [
    "print classification_report(Y_val, predicted)"
   ]
  },
  {
   "cell_type": "code",
   "execution_count": null,
   "metadata": {
    "collapsed": true
   },
   "outputs": [],
   "source": []
  }
 ],
 "metadata": {
  "kernelspec": {
   "display_name": "Python 2",
   "language": "python",
   "name": "python2"
  },
  "language_info": {
   "codemirror_mode": {
    "name": "ipython",
    "version": 2
   },
   "file_extension": ".py",
   "mimetype": "text/x-python",
   "name": "python",
   "nbconvert_exporter": "python",
   "pygments_lexer": "ipython2",
   "version": "2.7.10"
  }
 },
 "nbformat": 4,
 "nbformat_minor": 0
}
